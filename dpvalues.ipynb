{
 "cells": [
  {
   "cell_type": "code",
   "execution_count": 2,
   "metadata": {},
   "outputs": [],
   "source": [
    "import numpy as np\n",
    "import math\n",
    "import pandas as pd"
   ]
  },
  {
   "cell_type": "markdown",
   "metadata": {},
   "source": [
    "The dispersion Parameter in revosim works that the smaller it is the bigger it is the displacement. In this code I'm first trying to calculate the max px displacement for a given set of sispersion paramenter and then I'll try to check what dispersion parameters I need to have a certain amount of displacement."
   ]
  },
  {
   "cell_type": "code",
   "execution_count": null,
   "metadata": {},
   "outputs": [],
   "source": [
    "print(list(range(1, 15, 1)))"
   ]
  },
  {
   "cell_type": "code",
   "execution_count": 22,
   "metadata": {},
   "outputs": [],
   "source": [
    "#d = [2, 5, 10, 15, 20, 30, 40, 50, 60, 70]\n",
    "d = list(range(15))\n",
    "b = list(range(256))  # All integers from 0 to 255\n",
    "a = list(range(361))  # All integers from 0 to 360\n",
    "\n",
    "#x = ( math.sqrt( ( 65536 ) / ( b + 1 ) ) - 16 ) * ( ( np.sin(a) ) / ( d ))\n"
   ]
  },
  {
   "cell_type": "code",
   "execution_count": 23,
   "metadata": {},
   "outputs": [
    {
     "name": "stderr",
     "output_type": "stream",
     "text": [
      "/var/folders/dm/ryjvp3j51h78gsbgf92k6xvh0000gp/T/ipykernel_49805/4240695442.py:9: RuntimeWarning: invalid value encountered in scalar divide\n",
      "  x = (math.sqrt((65536) / (bi + 1)) - 16) * (np.sin(ai) / di)\n",
      "/var/folders/dm/ryjvp3j51h78gsbgf92k6xvh0000gp/T/ipykernel_49805/4240695442.py:9: RuntimeWarning: divide by zero encountered in scalar divide\n",
      "  x = (math.sqrt((65536) / (bi + 1)) - 16) * (np.sin(ai) / di)\n",
      "/var/folders/dm/ryjvp3j51h78gsbgf92k6xvh0000gp/T/ipykernel_49805/4240695442.py:9: RuntimeWarning: invalid value encountered in scalar multiply\n",
      "  x = (math.sqrt((65536) / (bi + 1)) - 16) * (np.sin(ai) / di)\n"
     ]
    }
   ],
   "source": [
    "# empty list to store result of x\n",
    "results = []\n",
    "\n",
    "# loop over each combination of d, b, and a\n",
    "for di in d:\n",
    "    for bi in b:\n",
    "        for ai in a:\n",
    "            # find the value of x\n",
    "            x = (math.sqrt((65536) / (bi + 1)) - 16) * (np.sin(ai) / di)\n",
    "            \n",
    "            # Append the result to the list\n",
    "            results.append([di, bi, ai, x])\n",
    "\n",
    "# Create a DataFrame to store the results\n",
    "df = pd.DataFrame(results, columns=['d', 'b', 'a', 'x'])"
   ]
  },
  {
   "cell_type": "code",
   "execution_count": 24,
   "metadata": {},
   "outputs": [],
   "source": [
    "# Group by 'd' and get the indices of max and min values of 'x'\n",
    "max_x = df.groupby('d')['x'].idxmax()\n",
    "min_x = df.groupby('d')['x'].idxmin()\n",
    "\n",
    "# Get the rows corresponding to the max and min values of 'x' for each 'd'\n",
    "max_x_rows = df.loc[max_x]\n",
    "min_x_rows = df.loc[min_x]\n",
    "\n",
    "# Add a column to identify if the row contains the max or min value\n",
    "max_x_rows['type'] = 'max'\n",
    "min_x_rows['type'] = 'min'\n",
    "\n",
    "# Concatenate the DataFrames\n",
    "max_min_x_rows = pd.concat([max_x_rows, min_x_rows])"
   ]
  },
  {
   "cell_type": "code",
   "execution_count": 25,
   "metadata": {},
   "outputs": [],
   "source": [
    "# Save the max and min values to a single CSV file\n",
    "max_min_x_rows.to_csv('dispersal-ranges.csv', index=False)"
   ]
  }
 ],
 "metadata": {
  "kernelspec": {
   "display_name": ".venv",
   "language": "python",
   "name": "python3"
  },
  "language_info": {
   "codemirror_mode": {
    "name": "ipython",
    "version": 3
   },
   "file_extension": ".py",
   "mimetype": "text/x-python",
   "name": "python",
   "nbconvert_exporter": "python",
   "pygments_lexer": "ipython3",
   "version": "3.11.6"
  }
 },
 "nbformat": 4,
 "nbformat_minor": 2
}
