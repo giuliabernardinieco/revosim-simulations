{
 "cells": [
  {
   "cell_type": "code",
   "execution_count": 2,
   "metadata": {},
   "outputs": [],
   "source": [
    "import pandas as pd\n",
    "import matplotlib.pyplot as plt\n",
    "import random\n",
    "import os\n",
    "import re\n",
    "import seaborn as sns\n",
    "import numpy as np"
   ]
  },
  {
   "cell_type": "code",
   "execution_count": 1,
   "metadata": {},
   "outputs": [],
   "source": [
    "# Define the folders containing the csv files\n",
    "# List of folder paths\n",
    "folder_paths = ['/Users/gb4818/Library/CloudStorage/OneDrive-ImperialCollegeLondon/Rev-res-in/gendiv/5k',\n",
    "    '/Users/gb4818/Library/CloudStorage/OneDrive-ImperialCollegeLondon/Rev-res-in/gendiv/10k',\n",
    "    '/Users/gb4818/Library/CloudStorage/OneDrive-ImperialCollegeLondon/Rev-res-in/gendiv/15k',]\n",
    "folder_labels = [5000, 10000, 15000]"
   ]
  },
  {
   "cell_type": "code",
   "execution_count": 3,
   "metadata": {},
   "outputs": [],
   "source": [
    "# Creating a function to calculate genetic diversity among pairs\n",
    "# I will use this one to calculate the average diversity of the sample\n",
    "def average_diversity_simulation(genomes, num_pairs):\n",
    "    # Select random pairs of indices\n",
    "    random_indices = random.sample(range(len(genomes)), 2 * num_pairs)\n",
    "\n",
    "    # Initialize a counter for differences\n",
    "    differences_count = 0\n",
    "\n",
    "    # Compare strings in random pairs\n",
    "    for i in range(0, len(random_indices), 2):\n",
    "        index1, index2 = random_indices[i], random_indices[i + 1]\n",
    "        string1, string2 = genomes.iloc[index1], genomes.iloc[index2]\n",
    "\n",
    "        # Compare strings and count differences\n",
    "        differences_count = differences_count + sum(c1 != c2 for c1, c2 in zip(string1, string2))\n",
    "\n",
    "    # Calculate the average differences per pair\n",
    "    average_differences = differences_count / num_pairs\n",
    "\n",
    "    return average_differences"
   ]
  },
  {
   "cell_type": "code",
   "execution_count": null,
   "metadata": {},
   "outputs": [],
   "source": [
    "# Running through all files in each folder and calculating the average diversity for each iteration number\n",
    "# Initialize an empty list to store dictionaries\n",
    "results_list = []\n",
    "\n",
    "for i, folder_path in enumerate(folder_paths):\n",
    "    # Loop through files in the folder\n",
    "    for filename in os.listdir(folder_path):\n",
    "        match = re.match(r'REvoSim_individuals_data_(\\d+).txt', filename)\n",
    "        if match:\n",
    "            file_path = os.path.join(folder_path, filename)\n",
    "            \n",
    "            # import data \n",
    "            df = pd.read_csv(file_path, sep=',', header=0, skiprows=12)\n",
    "            genomes = df['Genome']\n",
    "            # keep the first 32 bits from each genome\n",
    "            #genomes = df['Genome'].str[:32]\n",
    "            #remove the first 32 and keep the last (non-coding genome)\n",
    "            genomes = df['Genome'].str[32:]\n",
    "          \n",
    "            # Calculate average differences for the current file\n",
    "            diversity = average_diversity_simulation(genomes, len(genomes)//2)\n",
    "\n",
    "            # Append dictionary to the list\n",
    "            result_dict = {'File': filename, 'Folder': folder_labels[i], 'AverageDiversity': diversity, 'Pairs':len(genomes)//2}\n",
    "            results_list.append(result_dict)\n",
    "\n",
    "# Convert the list of dictionaries to a DataFrame\n",
    "results_df = pd.DataFrame(results_list)\n",
    "mean_div = results_df.groupby('Folder')['AverageDiversity'].mean().reset_index()"
   ]
  },
  {
   "cell_type": "code",
   "execution_count": null,
   "metadata": {},
   "outputs": [],
   "source": [
    "# made a graph with iteration number of the x axis and diversity  on the y-axis\n",
    "plt.figure(figsize=(10, 6))\n",
    "plt.plot(mean_div['Folder'], mean_div['AverageDiversity'], marker='o')\n",
    "plt.xlabel('Iteration')\n",
    "plt.ylabel('Average Genetic Diversity')\n",
    "plt.grid(True)\n",
    "plt.show()"
   ]
  }
 ],
 "metadata": {
  "kernelspec": {
   "display_name": ".venv",
   "language": "python",
   "name": "python3"
  },
  "language_info": {
   "codemirror_mode": {
    "name": "ipython",
    "version": 3
   },
   "file_extension": ".py",
   "mimetype": "text/x-python",
   "name": "python",
   "nbconvert_exporter": "python",
   "pygments_lexer": "ipython3",
   "version": "3.11.6"
  }
 },
 "nbformat": 4,
 "nbformat_minor": 2
}
