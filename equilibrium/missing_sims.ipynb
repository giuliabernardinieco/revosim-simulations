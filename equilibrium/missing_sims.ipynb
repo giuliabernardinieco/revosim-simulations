{
 "cells": [
  {
   "cell_type": "markdown",
   "metadata": {},
   "source": [
    "I hava missing simulations for dp = 25 and dp = 20. I run those missing simulations and now I need to add those to respective csvs"
   ]
  },
  {
   "cell_type": "code",
   "execution_count": 3,
   "metadata": {},
   "outputs": [],
   "source": [
    "import os\n",
    "import re\n",
    "import pandas as pd"
   ]
  },
  {
   "cell_type": "code",
   "execution_count": 11,
   "metadata": {},
   "outputs": [],
   "source": [
    "\n",
    "missing_fpath = [\"/Users/gb4818/Desktop/REvoSim_output/25dp/REvoSim_output\"]\n",
    "folder_labels = [25]"
   ]
  },
  {
   "cell_type": "code",
   "execution_count": 12,
   "metadata": {},
   "outputs": [],
   "source": [
    "# # Create a list to store individual DataFrames\n",
    "dataframes = []\n",
    "\n",
    "for i, missing_fpath in enumerate(missing_fpath):\n",
    "    # Loop through each file in the folder and read it into a DataFrame\n",
    "    for filename in os.listdir(missing_fpath):\n",
    "        match = re.match(r'REvoSim_log_.*\\.txt', filename)\n",
    "        if match:\n",
    "            file_path = os.path.join(missing_fpath, filename)\n",
    "            #df = pd.read_csv(file_path, sep=',', header=0, usecols=[0, 5], names=['Iteration_number', 'Species_count'])\n",
    "            \n",
    "            df = pd.read_csv(file_path, sep=',', header=0, usecols=[0, 5])\n",
    "            \n",
    "            # Remove duplicates\n",
    "            df = df.drop_duplicates()\n",
    "            \n",
    "            # Add 'simulation' and 'folder_label' columns\n",
    "            df['Simulation'] = filename\n",
    "            df['dp'] = folder_labels[i]\n",
    "            \n",
    "            # Append the modified DataFrame to the list\n",
    "            dataframes.append(df)\n",
    "\n",
    "# Concatenate all data in a pandas dataframe\n",
    "combined_df = pd.concat(dataframes, ignore_index=True)\n",
    "# save in a csv file\n",
    "combined_df.to_csv('/Users/gb4818/Desktop/REvoSim_output/25dp/REvoSim_output/w50_25dp_iterations_species_richness.csv', mode = 'a', header = False)\n"
   ]
  }
 ],
 "metadata": {
  "kernelspec": {
   "display_name": ".venv",
   "language": "python",
   "name": "python3"
  },
  "language_info": {
   "codemirror_mode": {
    "name": "ipython",
    "version": 3
   },
   "file_extension": ".py",
   "mimetype": "text/x-python",
   "name": "python",
   "nbconvert_exporter": "python",
   "pygments_lexer": "ipython3",
   "version": "3.11.6"
  }
 },
 "nbformat": 4,
 "nbformat_minor": 2
}
