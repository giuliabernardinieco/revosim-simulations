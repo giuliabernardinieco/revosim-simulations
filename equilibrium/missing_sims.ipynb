{
 "cells": [
  {
   "cell_type": "markdown",
   "metadata": {},
   "source": [
    "I hava missing simulations for dp = 25 and dp = 20. I run those missing simulations and now I need to add those to respective csvs"
   ]
  },
  {
   "cell_type": "markdown",
   "metadata": {},
   "source": [
    "### DP = 25"
   ]
  },
  {
   "cell_type": "code",
   "execution_count": 2,
   "metadata": {},
   "outputs": [],
   "source": [
    "import os\n",
    "import re\n",
    "import pandas as pd"
   ]
  },
  {
   "cell_type": "code",
   "execution_count": null,
   "metadata": {},
   "outputs": [],
   "source": [
    "\n",
    "missing_fpath = [\"/Users/gb4818/Desktop/REvoSim_output/25dp/REvoSim_output\"]\n",
    "folder_labels = [25]"
   ]
  },
  {
   "cell_type": "code",
   "execution_count": null,
   "metadata": {},
   "outputs": [],
   "source": [
    "## Create a list to store individual DataFrames\n",
    "dataframes = []\n",
    "\n",
    "for i, missing_fpath in enumerate(missing_fpath):\n",
    "    # Loop through each file in the folder and read it into a DataFrame\n",
    "    for filename in os.listdir(missing_fpath):\n",
    "        match = re.match(r'REvoSim_log_.*\\.txt', filename)\n",
    "        if match:\n",
    "            file_path = os.path.join(missing_fpath, filename)\n",
    "            #df = pd.read_csv(file_path, sep=',', header=0, usecols=[0, 5], names=['Iteration_number', 'Species_count'])\n",
    "            \n",
    "            df = pd.read_csv(file_path, sep=',', header=0, usecols=[0, 5])\n",
    "            \n",
    "            # Remove duplicates\n",
    "            df = df.drop_duplicates()\n",
    "            \n",
    "            # Add 'simulation' and 'folder_label' columns\n",
    "            df['Simulation'] = filename\n",
    "            df['dp'] = folder_labels[i]\n",
    "            \n",
    "            # Append the modified DataFrame to the list\n",
    "            dataframes.append(df)\n",
    "\n",
    "# Concatenate all data in a pandas dataframe\n",
    "combined_df = pd.concat(dataframes, ignore_index=True)\n",
    "# save in a csv file\n",
    "combined_df.to_csv('/Users/gb4818/Desktop/REvoSim_output/25dp/REvoSim_output/w50_25dp_iterations_species_richness.csv', mode = 'a', header = False)\n"
   ]
  },
  {
   "cell_type": "markdown",
   "metadata": {},
   "source": [
    "## DP = 20 "
   ]
  },
  {
   "cell_type": "markdown",
   "metadata": {},
   "source": [
    "39 missing simulations were run on the HPC and processed using the fetch-data.py to get species richness grids, iterations and genetic diversity. Need to remove 1 extra simulations from the 39, because I only need 38 of them"
   ]
  },
  {
   "cell_type": "code",
   "execution_count": 31,
   "metadata": {},
   "outputs": [],
   "source": [
    "# Import the new simulations\n",
    "# one file for genetic diversity \n",
    "# gd = pd.read_csv('/Users/gb4818/Library/CloudStorage/OneDrive-ImperialCollegeLondon/Rev-res-in/dispersion/controll-checks-20-25/missing-39-sims/w50_20dp_genetic_diversity_add.csv').query('Simulation == \"REvoSim_individuals_data_envw50_20dp_aj0.txt\"')\n",
    "\n",
    "# one file for the species richness grid\n",
    "sr_grid = pd.read_csv('/Users/gb4818/Library/CloudStorage/OneDrive-ImperialCollegeLondon/Rev-res-in/dispersion/controll-checks-20-25/missing-39-sims/w50_20dp_grids_species_richness_add.csv').query('Simulation != \"REvoSim_individuals_data_envw50_20dp_aj30.txt\"')\n",
    "\n",
    "# one file for species richness at each iteration time T\n",
    "# iterations_df = pd.read_csv('/Users/gb4818/Library/CloudStorage/OneDrive-ImperialCollegeLondon/Rev-res-in/dispersion/controll-checks-20-25/missing-39-sims/w50_20dp_iterations_species_richness_add.csv').query('Simulation == \"REvoSim_log_envw50_20dp_aj0.txt\"')"
   ]
  },
  {
   "cell_type": "code",
   "execution_count": 32,
   "metadata": {},
   "outputs": [
    {
     "data": {
      "text/plain": [
       "38"
      ]
     },
     "execution_count": 32,
     "metadata": {},
     "output_type": "execute_result"
    }
   ],
   "source": [
    "len(sr_grid['Simulation'].unique())"
   ]
  },
  {
   "cell_type": "code",
   "execution_count": 36,
   "metadata": {},
   "outputs": [
    {
     "data": {
      "text/plain": [
       "2962"
      ]
     },
     "execution_count": 36,
     "metadata": {},
     "output_type": "execute_result"
    }
   ],
   "source": [
    "old = pd.read_csv('/Users/gb4818/Library/CloudStorage/OneDrive-ImperialCollegeLondon/Rev-res-in/dispersion/files with missing sims/w50_20dp_grids_species_richness.csv').query('Simulation != \"REvoSim_individuals_data_envw50_20dp_aj30_bis.txt\"')\n",
    "len(old['Simulation'].unique())"
   ]
  },
  {
   "cell_type": "code",
   "execution_count": 34,
   "metadata": {},
   "outputs": [
    {
     "data": {
      "text/html": [
       "<div>\n",
       "<style scoped>\n",
       "    .dataframe tbody tr th:only-of-type {\n",
       "        vertical-align: middle;\n",
       "    }\n",
       "\n",
       "    .dataframe tbody tr th {\n",
       "        vertical-align: top;\n",
       "    }\n",
       "\n",
       "    .dataframe thead th {\n",
       "        text-align: right;\n",
       "    }\n",
       "</style>\n",
       "<table border=\"1\" class=\"dataframe\">\n",
       "  <thead>\n",
       "    <tr style=\"text-align: right;\">\n",
       "      <th></th>\n",
       "      <th>Unnamed: 0</th>\n",
       "      <th>X coord</th>\n",
       "      <th>Y coord</th>\n",
       "      <th>Species Richness</th>\n",
       "      <th>Simulation</th>\n",
       "      <th>dp</th>\n",
       "    </tr>\n",
       "  </thead>\n",
       "  <tbody>\n",
       "    <tr>\n",
       "      <th>0</th>\n",
       "      <td>0</td>\n",
       "      <td>0</td>\n",
       "      <td>0</td>\n",
       "      <td>1</td>\n",
       "      <td>REvoSim_individuals_data_envw50_20dp_aj2487.txt</td>\n",
       "      <td>20</td>\n",
       "    </tr>\n",
       "    <tr>\n",
       "      <th>1</th>\n",
       "      <td>1</td>\n",
       "      <td>1</td>\n",
       "      <td>0</td>\n",
       "      <td>3</td>\n",
       "      <td>REvoSim_individuals_data_envw50_20dp_aj2487.txt</td>\n",
       "      <td>20</td>\n",
       "    </tr>\n",
       "    <tr>\n",
       "      <th>2</th>\n",
       "      <td>2</td>\n",
       "      <td>2</td>\n",
       "      <td>0</td>\n",
       "      <td>3</td>\n",
       "      <td>REvoSim_individuals_data_envw50_20dp_aj2487.txt</td>\n",
       "      <td>20</td>\n",
       "    </tr>\n",
       "    <tr>\n",
       "      <th>3</th>\n",
       "      <td>3</td>\n",
       "      <td>3</td>\n",
       "      <td>0</td>\n",
       "      <td>1</td>\n",
       "      <td>REvoSim_individuals_data_envw50_20dp_aj2487.txt</td>\n",
       "      <td>20</td>\n",
       "    </tr>\n",
       "    <tr>\n",
       "      <th>4</th>\n",
       "      <td>4</td>\n",
       "      <td>4</td>\n",
       "      <td>0</td>\n",
       "      <td>1</td>\n",
       "      <td>REvoSim_individuals_data_envw50_20dp_aj2487.txt</td>\n",
       "      <td>20</td>\n",
       "    </tr>\n",
       "  </tbody>\n",
       "</table>\n",
       "</div>"
      ],
      "text/plain": [
       "   Unnamed: 0  X coord  Y coord  Species Richness  \\\n",
       "0           0        0        0                 1   \n",
       "1           1        1        0                 3   \n",
       "2           2        2        0                 3   \n",
       "3           3        3        0                 1   \n",
       "4           4        4        0                 1   \n",
       "\n",
       "                                        Simulation  dp  \n",
       "0  REvoSim_individuals_data_envw50_20dp_aj2487.txt  20  \n",
       "1  REvoSim_individuals_data_envw50_20dp_aj2487.txt  20  \n",
       "2  REvoSim_individuals_data_envw50_20dp_aj2487.txt  20  \n",
       "3  REvoSim_individuals_data_envw50_20dp_aj2487.txt  20  \n",
       "4  REvoSim_individuals_data_envw50_20dp_aj2487.txt  20  "
      ]
     },
     "execution_count": 34,
     "metadata": {},
     "output_type": "execute_result"
    }
   ],
   "source": [
    "old.head()"
   ]
  },
  {
   "cell_type": "code",
   "execution_count": 37,
   "metadata": {},
   "outputs": [
    {
     "data": {
      "text/html": [
       "<div>\n",
       "<style scoped>\n",
       "    .dataframe tbody tr th:only-of-type {\n",
       "        vertical-align: middle;\n",
       "    }\n",
       "\n",
       "    .dataframe tbody tr th {\n",
       "        vertical-align: top;\n",
       "    }\n",
       "\n",
       "    .dataframe thead th {\n",
       "        text-align: right;\n",
       "    }\n",
       "</style>\n",
       "<table border=\"1\" class=\"dataframe\">\n",
       "  <thead>\n",
       "    <tr style=\"text-align: right;\">\n",
       "      <th></th>\n",
       "      <th>Unnamed: 0</th>\n",
       "      <th>X coord</th>\n",
       "      <th>Y coord</th>\n",
       "      <th>Species Richness</th>\n",
       "      <th>Simulation</th>\n",
       "      <th>dp</th>\n",
       "    </tr>\n",
       "  </thead>\n",
       "  <tbody>\n",
       "    <tr>\n",
       "      <th>0</th>\n",
       "      <td>0</td>\n",
       "      <td>0</td>\n",
       "      <td>0</td>\n",
       "      <td>2</td>\n",
       "      <td>REvoSim_individuals_data_envw50_20dp_aj1028.txt</td>\n",
       "      <td>20</td>\n",
       "    </tr>\n",
       "    <tr>\n",
       "      <th>1</th>\n",
       "      <td>1</td>\n",
       "      <td>1</td>\n",
       "      <td>0</td>\n",
       "      <td>1</td>\n",
       "      <td>REvoSim_individuals_data_envw50_20dp_aj1028.txt</td>\n",
       "      <td>20</td>\n",
       "    </tr>\n",
       "    <tr>\n",
       "      <th>2</th>\n",
       "      <td>2</td>\n",
       "      <td>2</td>\n",
       "      <td>0</td>\n",
       "      <td>1</td>\n",
       "      <td>REvoSim_individuals_data_envw50_20dp_aj1028.txt</td>\n",
       "      <td>20</td>\n",
       "    </tr>\n",
       "    <tr>\n",
       "      <th>3</th>\n",
       "      <td>3</td>\n",
       "      <td>3</td>\n",
       "      <td>0</td>\n",
       "      <td>3</td>\n",
       "      <td>REvoSim_individuals_data_envw50_20dp_aj1028.txt</td>\n",
       "      <td>20</td>\n",
       "    </tr>\n",
       "    <tr>\n",
       "      <th>4</th>\n",
       "      <td>4</td>\n",
       "      <td>4</td>\n",
       "      <td>0</td>\n",
       "      <td>1</td>\n",
       "      <td>REvoSim_individuals_data_envw50_20dp_aj1028.txt</td>\n",
       "      <td>20</td>\n",
       "    </tr>\n",
       "  </tbody>\n",
       "</table>\n",
       "</div>"
      ],
      "text/plain": [
       "   Unnamed: 0  X coord  Y coord  Species Richness  \\\n",
       "0           0        0        0                 2   \n",
       "1           1        1        0                 1   \n",
       "2           2        2        0                 1   \n",
       "3           3        3        0                 3   \n",
       "4           4        4        0                 1   \n",
       "\n",
       "                                        Simulation  dp  \n",
       "0  REvoSim_individuals_data_envw50_20dp_aj1028.txt  20  \n",
       "1  REvoSim_individuals_data_envw50_20dp_aj1028.txt  20  \n",
       "2  REvoSim_individuals_data_envw50_20dp_aj1028.txt  20  \n",
       "3  REvoSim_individuals_data_envw50_20dp_aj1028.txt  20  \n",
       "4  REvoSim_individuals_data_envw50_20dp_aj1028.txt  20  "
      ]
     },
     "execution_count": 37,
     "metadata": {},
     "output_type": "execute_result"
    }
   ],
   "source": [
    "sr_grid.head()"
   ]
  },
  {
   "cell_type": "code",
   "execution_count": 39,
   "metadata": {},
   "outputs": [
    {
     "data": {
      "text/plain": [
       "3000"
      ]
     },
     "execution_count": 39,
     "metadata": {},
     "output_type": "execute_result"
    }
   ],
   "source": [
    "# Append the second CSV to the first\n",
    "result_grids = pd.concat([old, sr_grid], ignore_index=True)\n",
    "len(result_grids['Simulation'].unique())    "
   ]
  },
  {
   "cell_type": "code",
   "execution_count": 42,
   "metadata": {},
   "outputs": [],
   "source": [
    "result_grids.to_csv('/Users/gb4818/Library/CloudStorage/OneDrive-ImperialCollegeLondon/Rev-res-in/dispersion/csv-files/w50_20dp_grids_species_richness.csv')"
   ]
  },
  {
   "cell_type": "code",
   "execution_count": 25,
   "metadata": {},
   "outputs": [
    {
     "data": {
      "text/plain": [
       "2999"
      ]
     },
     "execution_count": 25,
     "metadata": {},
     "output_type": "execute_result"
    }
   ],
   "source": [
    "# check structure of teh iteration files\n",
    "tocomp = pd.read_csv(\"/Users/gb4818/Library/CloudStorage/OneDrive-ImperialCollegeLondon/Rev-res-in/dispersion/csv-files/w50_20dp_iterations_species_richness.csv\").query('Simulation != \"REvoSim_log_envw50_20dp_aj30.txt\"')\n",
    "(tocomp.head())\n",
    "# tocomp = tocomp.iloc[:, 1:]\n",
    "# tocomp.head()\n",
    "len(tocomp['Simulation'].unique())"
   ]
  },
  {
   "cell_type": "code",
   "execution_count": 26,
   "metadata": {},
   "outputs": [],
   "source": [
    "# Append the second CSV to the first\n",
    "result_df = pd.concat([tocomp, iterations_df], ignore_index=True)"
   ]
  },
  {
   "cell_type": "code",
   "execution_count": 27,
   "metadata": {},
   "outputs": [],
   "source": [
    "# Save the result to a new CSV file\n",
    "# result_df.to_csv(\"/Users/gb4818/Library/CloudStorage/OneDrive-ImperialCollegeLondon/Rev-res-in/dispersion/csv-files/w50_20dp_iterations_species_richness.csv\", index=False)"
   ]
  },
  {
   "cell_type": "code",
   "execution_count": null,
   "metadata": {},
   "outputs": [],
   "source": [
    "import linecache\n",
    "\n",
    "# Specify the line number\n",
    "line_number = 28590106\n",
    "\n",
    "# Specify the file path\n",
    "file_path = \"/Users/gb4818/Library/CloudStorage/OneDrive-ImperialCollegeLondon/Rev-res-in/dispersion/csv-files/w50_20dp_grids_species_richness.csv\"\n",
    "\n",
    "# Get the line\n",
    "line = linecache.getline(file_path, line_number)\n",
    "\n",
    "# Print the line\n",
    "print(line)\n"
   ]
  },
  {
   "cell_type": "code",
   "execution_count": 12,
   "metadata": {},
   "outputs": [
    {
     "data": {
      "text/plain": [
       "2963"
      ]
     },
     "execution_count": 12,
     "metadata": {},
     "output_type": "execute_result"
    }
   ],
   "source": [
    "toreread = pd.read_csv('/Users/gb4818/Library/CloudStorage/OneDrive-ImperialCollegeLondon/Rev-res-in/dispersion/csv-files/w50_20dp_grids_species_richness.csv', nrows=28590104)\n",
    "toreread.tail()\n",
    "toreread = toreread[toreread['Simulation'] != 'REvoSim_log_envw50_20dp_aj30_bis.txt']\n",
    "len(toreread['Simulation'].unique())"
   ]
  },
  {
   "cell_type": "code",
   "execution_count": 13,
   "metadata": {},
   "outputs": [
    {
     "data": {
      "text/html": [
       "<div>\n",
       "<style scoped>\n",
       "    .dataframe tbody tr th:only-of-type {\n",
       "        vertical-align: middle;\n",
       "    }\n",
       "\n",
       "    .dataframe tbody tr th {\n",
       "        vertical-align: top;\n",
       "    }\n",
       "\n",
       "    .dataframe thead th {\n",
       "        text-align: right;\n",
       "    }\n",
       "</style>\n",
       "<table border=\"1\" class=\"dataframe\">\n",
       "  <thead>\n",
       "    <tr style=\"text-align: right;\">\n",
       "      <th></th>\n",
       "      <th>Unnamed: 0</th>\n",
       "      <th>X coord</th>\n",
       "      <th>Y coord</th>\n",
       "      <th>Species Richness</th>\n",
       "      <th>Simulation</th>\n",
       "      <th>dp</th>\n",
       "    </tr>\n",
       "  </thead>\n",
       "  <tbody>\n",
       "    <tr>\n",
       "      <th>40000</th>\n",
       "      <td>40000</td>\n",
       "      <td>0</td>\n",
       "      <td>0</td>\n",
       "      <td>2</td>\n",
       "      <td>REvoSim_individuals_data_envw50_20dp_aj0.txt</td>\n",
       "      <td>20</td>\n",
       "    </tr>\n",
       "    <tr>\n",
       "      <th>40001</th>\n",
       "      <td>40001</td>\n",
       "      <td>1</td>\n",
       "      <td>0</td>\n",
       "      <td>3</td>\n",
       "      <td>REvoSim_individuals_data_envw50_20dp_aj0.txt</td>\n",
       "      <td>20</td>\n",
       "    </tr>\n",
       "    <tr>\n",
       "      <th>40002</th>\n",
       "      <td>40002</td>\n",
       "      <td>2</td>\n",
       "      <td>0</td>\n",
       "      <td>2</td>\n",
       "      <td>REvoSim_individuals_data_envw50_20dp_aj0.txt</td>\n",
       "      <td>20</td>\n",
       "    </tr>\n",
       "    <tr>\n",
       "      <th>40003</th>\n",
       "      <td>40003</td>\n",
       "      <td>3</td>\n",
       "      <td>0</td>\n",
       "      <td>1</td>\n",
       "      <td>REvoSim_individuals_data_envw50_20dp_aj0.txt</td>\n",
       "      <td>20</td>\n",
       "    </tr>\n",
       "    <tr>\n",
       "      <th>40004</th>\n",
       "      <td>40004</td>\n",
       "      <td>4</td>\n",
       "      <td>0</td>\n",
       "      <td>1</td>\n",
       "      <td>REvoSim_individuals_data_envw50_20dp_aj0.txt</td>\n",
       "      <td>20</td>\n",
       "    </tr>\n",
       "  </tbody>\n",
       "</table>\n",
       "</div>"
      ],
      "text/plain": [
       "       Unnamed: 0  X coord  Y coord  Species Richness  \\\n",
       "40000       40000        0        0                 2   \n",
       "40001       40001        1        0                 3   \n",
       "40002       40002        2        0                 2   \n",
       "40003       40003        3        0                 1   \n",
       "40004       40004        4        0                 1   \n",
       "\n",
       "                                         Simulation  dp  \n",
       "40000  REvoSim_individuals_data_envw50_20dp_aj0.txt  20  \n",
       "40001  REvoSim_individuals_data_envw50_20dp_aj0.txt  20  \n",
       "40002  REvoSim_individuals_data_envw50_20dp_aj0.txt  20  \n",
       "40003  REvoSim_individuals_data_envw50_20dp_aj0.txt  20  \n",
       "40004  REvoSim_individuals_data_envw50_20dp_aj0.txt  20  "
      ]
     },
     "execution_count": 13,
     "metadata": {},
     "output_type": "execute_result"
    }
   ],
   "source": [
    "# add sr_grid to the end of the file but first check the structure\n",
    "sr_grid.head()\n"
   ]
  },
  {
   "cell_type": "code",
   "execution_count": 15,
   "metadata": {},
   "outputs": [
    {
     "data": {
      "text/html": [
       "<div>\n",
       "<style scoped>\n",
       "    .dataframe tbody tr th:only-of-type {\n",
       "        vertical-align: middle;\n",
       "    }\n",
       "\n",
       "    .dataframe tbody tr th {\n",
       "        vertical-align: top;\n",
       "    }\n",
       "\n",
       "    .dataframe thead th {\n",
       "        text-align: right;\n",
       "    }\n",
       "</style>\n",
       "<table border=\"1\" class=\"dataframe\">\n",
       "  <thead>\n",
       "    <tr style=\"text-align: right;\">\n",
       "      <th></th>\n",
       "      <th>Unnamed: 0</th>\n",
       "      <th>X coord</th>\n",
       "      <th>Y coord</th>\n",
       "      <th>Species Richness</th>\n",
       "      <th>Simulation</th>\n",
       "      <th>dp</th>\n",
       "    </tr>\n",
       "  </thead>\n",
       "  <tbody>\n",
       "    <tr>\n",
       "      <th>28590099</th>\n",
       "      <td>9995</td>\n",
       "      <td>95</td>\n",
       "      <td>99</td>\n",
       "      <td>1</td>\n",
       "      <td>REvoSim_individuals_data_envw50_20dp_aj1028.txt</td>\n",
       "      <td>20</td>\n",
       "    </tr>\n",
       "    <tr>\n",
       "      <th>28590100</th>\n",
       "      <td>9996</td>\n",
       "      <td>96</td>\n",
       "      <td>99</td>\n",
       "      <td>1</td>\n",
       "      <td>REvoSim_individuals_data_envw50_20dp_aj1028.txt</td>\n",
       "      <td>20</td>\n",
       "    </tr>\n",
       "    <tr>\n",
       "      <th>28590101</th>\n",
       "      <td>9997</td>\n",
       "      <td>97</td>\n",
       "      <td>99</td>\n",
       "      <td>1</td>\n",
       "      <td>REvoSim_individuals_data_envw50_20dp_aj1028.txt</td>\n",
       "      <td>20</td>\n",
       "    </tr>\n",
       "    <tr>\n",
       "      <th>28590102</th>\n",
       "      <td>9998</td>\n",
       "      <td>98</td>\n",
       "      <td>99</td>\n",
       "      <td>2</td>\n",
       "      <td>REvoSim_individuals_data_envw50_20dp_aj1028.txt</td>\n",
       "      <td>20</td>\n",
       "    </tr>\n",
       "    <tr>\n",
       "      <th>28590103</th>\n",
       "      <td>9999</td>\n",
       "      <td>99</td>\n",
       "      <td>99</td>\n",
       "      <td>1</td>\n",
       "      <td>REvoSim_individuals_data_envw50_20dp_aj1028.txt</td>\n",
       "      <td>20</td>\n",
       "    </tr>\n",
       "  </tbody>\n",
       "</table>\n",
       "</div>"
      ],
      "text/plain": [
       "          Unnamed: 0  X coord  Y coord  Species Richness  \\\n",
       "28590099        9995       95       99                 1   \n",
       "28590100        9996       96       99                 1   \n",
       "28590101        9997       97       99                 1   \n",
       "28590102        9998       98       99                 2   \n",
       "28590103        9999       99       99                 1   \n",
       "\n",
       "                                               Simulation  dp  \n",
       "28590099  REvoSim_individuals_data_envw50_20dp_aj1028.txt  20  \n",
       "28590100  REvoSim_individuals_data_envw50_20dp_aj1028.txt  20  \n",
       "28590101  REvoSim_individuals_data_envw50_20dp_aj1028.txt  20  \n",
       "28590102  REvoSim_individuals_data_envw50_20dp_aj1028.txt  20  \n",
       "28590103  REvoSim_individuals_data_envw50_20dp_aj1028.txt  20  "
      ]
     },
     "execution_count": 15,
     "metadata": {},
     "output_type": "execute_result"
    }
   ],
   "source": [
    "toreread.tail()"
   ]
  },
  {
   "cell_type": "code",
   "execution_count": 16,
   "metadata": {},
   "outputs": [
    {
     "data": {
      "text/html": [
       "<div>\n",
       "<style scoped>\n",
       "    .dataframe tbody tr th:only-of-type {\n",
       "        vertical-align: middle;\n",
       "    }\n",
       "\n",
       "    .dataframe tbody tr th {\n",
       "        vertical-align: top;\n",
       "    }\n",
       "\n",
       "    .dataframe thead th {\n",
       "        text-align: right;\n",
       "    }\n",
       "</style>\n",
       "<table border=\"1\" class=\"dataframe\">\n",
       "  <thead>\n",
       "    <tr style=\"text-align: right;\">\n",
       "      <th></th>\n",
       "      <th>Unnamed: 0</th>\n",
       "      <th>X coord</th>\n",
       "      <th>Y coord</th>\n",
       "      <th>Species Richness</th>\n",
       "      <th>Simulation</th>\n",
       "      <th>dp</th>\n",
       "    </tr>\n",
       "  </thead>\n",
       "  <tbody>\n",
       "    <tr>\n",
       "      <th>28600099</th>\n",
       "      <td>49995</td>\n",
       "      <td>95</td>\n",
       "      <td>99</td>\n",
       "      <td>1</td>\n",
       "      <td>REvoSim_individuals_data_envw50_20dp_aj0.txt</td>\n",
       "      <td>20</td>\n",
       "    </tr>\n",
       "    <tr>\n",
       "      <th>28600100</th>\n",
       "      <td>49996</td>\n",
       "      <td>96</td>\n",
       "      <td>99</td>\n",
       "      <td>2</td>\n",
       "      <td>REvoSim_individuals_data_envw50_20dp_aj0.txt</td>\n",
       "      <td>20</td>\n",
       "    </tr>\n",
       "    <tr>\n",
       "      <th>28600101</th>\n",
       "      <td>49997</td>\n",
       "      <td>97</td>\n",
       "      <td>99</td>\n",
       "      <td>3</td>\n",
       "      <td>REvoSim_individuals_data_envw50_20dp_aj0.txt</td>\n",
       "      <td>20</td>\n",
       "    </tr>\n",
       "    <tr>\n",
       "      <th>28600102</th>\n",
       "      <td>49998</td>\n",
       "      <td>98</td>\n",
       "      <td>99</td>\n",
       "      <td>1</td>\n",
       "      <td>REvoSim_individuals_data_envw50_20dp_aj0.txt</td>\n",
       "      <td>20</td>\n",
       "    </tr>\n",
       "    <tr>\n",
       "      <th>28600103</th>\n",
       "      <td>49999</td>\n",
       "      <td>99</td>\n",
       "      <td>99</td>\n",
       "      <td>3</td>\n",
       "      <td>REvoSim_individuals_data_envw50_20dp_aj0.txt</td>\n",
       "      <td>20</td>\n",
       "    </tr>\n",
       "  </tbody>\n",
       "</table>\n",
       "</div>"
      ],
      "text/plain": [
       "          Unnamed: 0  X coord  Y coord  Species Richness  \\\n",
       "28600099       49995       95       99                 1   \n",
       "28600100       49996       96       99                 2   \n",
       "28600101       49997       97       99                 3   \n",
       "28600102       49998       98       99                 1   \n",
       "28600103       49999       99       99                 3   \n",
       "\n",
       "                                            Simulation  dp  \n",
       "28600099  REvoSim_individuals_data_envw50_20dp_aj0.txt  20  \n",
       "28600100  REvoSim_individuals_data_envw50_20dp_aj0.txt  20  \n",
       "28600101  REvoSim_individuals_data_envw50_20dp_aj0.txt  20  \n",
       "28600102  REvoSim_individuals_data_envw50_20dp_aj0.txt  20  \n",
       "28600103  REvoSim_individuals_data_envw50_20dp_aj0.txt  20  "
      ]
     },
     "execution_count": 16,
     "metadata": {},
     "output_type": "execute_result"
    }
   ],
   "source": [
    "# Append the second CSV to the first\n",
    "new = pd.concat([toreread, sr_grid], ignore_index=True)\n",
    "new.tail()"
   ]
  },
  {
   "cell_type": "markdown",
   "metadata": {},
   "source": []
  },
  {
   "cell_type": "code",
   "execution_count": 17,
   "metadata": {},
   "outputs": [],
   "source": [
    "# new.to_csv('/Users/gb4818/Library/CloudStorage/OneDrive-ImperialCollegeLondon/Rev-res-in/dispersion/csv-files/w50_20dp_grids_species_richness.csv', index=False)"
   ]
  },
  {
   "cell_type": "markdown",
   "metadata": {},
   "source": [
    "### It still looks like I'm missing two simulations in te grid files for both dp 20 and 25"
   ]
  },
  {
   "cell_type": "code",
   "execution_count": 18,
   "metadata": {},
   "outputs": [],
   "source": [
    "dp_20_grid = pd.read_csv('/Users/gb4818/Library/CloudStorage/OneDrive-ImperialCollegeLondon/Rev-res-in/dispersion/csv-files/w50_20dp_grids_species_richness.csv')\n",
    "dp_25_grid = pd.read_csv(\"/Users/gb4818/Library/CloudStorage/OneDrive-ImperialCollegeLondon/Rev-res-in/dispersion/csv-files/w50_25dp_grids_species_richness.csv\")"
   ]
  },
  {
   "cell_type": "code",
   "execution_count": 19,
   "metadata": {},
   "outputs": [],
   "source": [
    "tocheck = [dp_20_grid, dp_25_grid]  # list of dataframes to check\n",
    "label = ['20', '25']  # list of labels to use"
   ]
  },
  {
   "cell_type": "code",
   "execution_count": 30,
   "metadata": {},
   "outputs": [
    {
     "name": "stdout",
     "output_type": "stream",
     "text": [
      "for d = 20 there are 2964 simulations\n",
      "for d = 25 there are 3000 simulations\n"
     ]
    }
   ],
   "source": [
    "for i, df in enumerate(tocheck):\n",
    "    N = len(df['Simulation'].unique())\n",
    "    Unique = df['Simulation'].unique()\n",
    "    pd.DataFrame(Unique).to_csv(f'unique sism d = {label[i]}.csv', mode = 'a', header = False)\n",
    "    print('for d =', label[i], 'there are', N, \"simulations\")"
   ]
  },
  {
   "cell_type": "code",
   "execution_count": null,
   "metadata": {},
   "outputs": [],
   "source": []
  }
 ],
 "metadata": {
  "kernelspec": {
   "display_name": ".venv",
   "language": "python",
   "name": "python3"
  },
  "language_info": {
   "codemirror_mode": {
    "name": "ipython",
    "version": 3
   },
   "file_extension": ".py",
   "mimetype": "text/x-python",
   "name": "python",
   "nbconvert_exporter": "python",
   "pygments_lexer": "ipython3",
   "version": "3.11.6"
  }
 },
 "nbformat": 4,
 "nbformat_minor": 2
}
