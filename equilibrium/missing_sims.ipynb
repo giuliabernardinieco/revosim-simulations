{
 "cells": [
  {
   "cell_type": "markdown",
   "metadata": {},
   "source": [
    "I hava missing simulations for dp = 25 and dp = 20. I run those missing simulations and now I need to add those to respective csvs"
   ]
  },
  {
   "cell_type": "markdown",
   "metadata": {},
   "source": [
    "### DP = 25"
   ]
  },
  {
   "cell_type": "code",
   "execution_count": 2,
   "metadata": {},
   "outputs": [],
   "source": [
    "import os\n",
    "import re\n",
    "import pandas as pd"
   ]
  },
  {
   "cell_type": "code",
   "execution_count": 11,
   "metadata": {},
   "outputs": [],
   "source": [
    "\n",
    "missing_fpath = [\"/Users/gb4818/Desktop/REvoSim_output/25dp/REvoSim_output\"]\n",
    "folder_labels = [25]"
   ]
  },
  {
   "cell_type": "code",
   "execution_count": 12,
   "metadata": {},
   "outputs": [],
   "source": [
    "## Create a list to store individual DataFrames\n",
    "dataframes = []\n",
    "\n",
    "for i, missing_fpath in enumerate(missing_fpath):\n",
    "    # Loop through each file in the folder and read it into a DataFrame\n",
    "    for filename in os.listdir(missing_fpath):\n",
    "        match = re.match(r'REvoSim_log_.*\\.txt', filename)\n",
    "        if match:\n",
    "            file_path = os.path.join(missing_fpath, filename)\n",
    "            #df = pd.read_csv(file_path, sep=',', header=0, usecols=[0, 5], names=['Iteration_number', 'Species_count'])\n",
    "            \n",
    "            df = pd.read_csv(file_path, sep=',', header=0, usecols=[0, 5])\n",
    "            \n",
    "            # Remove duplicates\n",
    "            df = df.drop_duplicates()\n",
    "            \n",
    "            # Add 'simulation' and 'folder_label' columns\n",
    "            df['Simulation'] = filename\n",
    "            df['dp'] = folder_labels[i]\n",
    "            \n",
    "            # Append the modified DataFrame to the list\n",
    "            dataframes.append(df)\n",
    "\n",
    "# Concatenate all data in a pandas dataframe\n",
    "combined_df = pd.concat(dataframes, ignore_index=True)\n",
    "# save in a csv file\n",
    "combined_df.to_csv('/Users/gb4818/Desktop/REvoSim_output/25dp/REvoSim_output/w50_25dp_iterations_species_richness.csv', mode = 'a', header = False)\n"
   ]
  },
  {
   "cell_type": "markdown",
   "metadata": {},
   "source": [
    "Comment on we 31/07: Giulia, You need to add the Genetic diversity and species richness grids data for this extra simulation d=25, to the csv file"
   ]
  },
  {
   "cell_type": "markdown",
   "metadata": {},
   "source": [
    "## DP = 20 "
   ]
  },
  {
   "cell_type": "markdown",
   "metadata": {},
   "source": [
    "39 missing simulations were run on the HPC and processed using the fetch-data file to get species richness grids, iterations and genetic diversity"
   ]
  },
  {
   "cell_type": "code",
   "execution_count": 3,
   "metadata": {},
   "outputs": [],
   "source": [
    "gd = pd.read_csv('/Users/gb4818/Library/CloudStorage/OneDrive-ImperialCollegeLondon/Rev-res-in/dispersion/controll-checks-20-25/missing-39-sims/w50_20dp_genetic_diversity.csv')\n",
    "sr_grid = pd.read_csv('/Users/gb4818/Library/CloudStorage/OneDrive-ImperialCollegeLondon/Rev-res-in/dispersion/controll-checks-20-25/missing-39-sims/w50_20dp_grids_species_richness.csv')\n",
    "iterations_df = pd.read_csv('/Users/gb4818/Library/CloudStorage/OneDrive-ImperialCollegeLondon/Rev-res-in/dispersion/controll-checks-20-25/missing-39-sims/w50_20dp_iterations_species_richness.csv')"
   ]
  },
  {
   "cell_type": "code",
   "execution_count": null,
   "metadata": {},
   "outputs": [],
   "source": []
  },
  {
   "cell_type": "code",
   "execution_count": 5,
   "metadata": {},
   "outputs": [
    {
     "name": "stdout",
     "output_type": "stream",
     "text": [
      "       Unnamed: 0  Iteration_Number  Species_Count  \\\n",
      "0               0                 0              1   \n",
      "1               1                49              1   \n",
      "2               2                99              1   \n",
      "3               3               149              1   \n",
      "4               4               199              1   \n",
      "...           ...               ...            ...   \n",
      "78034       78034             99799              1   \n",
      "78035       78035             99849              1   \n",
      "78036       78036             99899              1   \n",
      "78037       78037             99949              1   \n",
      "78038       78038             99999              1   \n",
      "\n",
      "                              Simulation  dp  \n",
      "0       REvoSim_log_envw50_20dp_aj30.txt  20  \n",
      "1       REvoSim_log_envw50_20dp_aj30.txt  20  \n",
      "2       REvoSim_log_envw50_20dp_aj30.txt  20  \n",
      "3       REvoSim_log_envw50_20dp_aj30.txt  20  \n",
      "4       REvoSim_log_envw50_20dp_aj30.txt  20  \n",
      "...                                  ...  ..  \n",
      "78034  REvoSim_log_envw50_20dp_aj365.txt  20  \n",
      "78035  REvoSim_log_envw50_20dp_aj365.txt  20  \n",
      "78036  REvoSim_log_envw50_20dp_aj365.txt  20  \n",
      "78037  REvoSim_log_envw50_20dp_aj365.txt  20  \n",
      "78038  REvoSim_log_envw50_20dp_aj365.txt  20  \n",
      "\n",
      "[78039 rows x 5 columns]\n",
      "         Unnamed: 0  Iteration_Number  Species_Count  \\\n",
      "0                 0                 0              1   \n",
      "1                 1                49              1   \n",
      "2                 2                99              1   \n",
      "3                 3               149              1   \n",
      "4                 4               199              1   \n",
      "...             ...               ...            ...   \n",
      "5712995        1996             99799           1196   \n",
      "5712996        1997             99849           1195   \n",
      "5712997        1998             99899           1196   \n",
      "5712998        1999             99949           1198   \n",
      "5712999        2000             99999           1198   \n",
      "\n",
      "                                Simulation  dp  \n",
      "0        REvoSim_log_envw50_25dp_aj917.txt  25  \n",
      "1        REvoSim_log_envw50_25dp_aj917.txt  25  \n",
      "2        REvoSim_log_envw50_25dp_aj917.txt  25  \n",
      "3        REvoSim_log_envw50_25dp_aj917.txt  25  \n",
      "4        REvoSim_log_envw50_25dp_aj917.txt  25  \n",
      "...                                    ...  ..  \n",
      "5712995   REvoSim_log_envw50_25dp_aj10.txt  25  \n",
      "5712996   REvoSim_log_envw50_25dp_aj10.txt  25  \n",
      "5712997   REvoSim_log_envw50_25dp_aj10.txt  25  \n",
      "5712998   REvoSim_log_envw50_25dp_aj10.txt  25  \n",
      "5712999   REvoSim_log_envw50_25dp_aj10.txt  25  \n",
      "\n",
      "[5713000 rows x 5 columns]\n"
     ]
    }
   ],
   "source": [
    "# append the above at the bottom of my files \n",
    "gd.to_csv('/Users/gb4818/Library/CloudStorage/OneDrive-ImperialCollegeLondon/Rev-res-in/dispersion/csv-files/w50_20dp_genetic_diversity.csv', mode = 'a', header = False)\n",
    "sr_grid.to_csv('/Users/gb4818/Library/CloudStorage/OneDrive-ImperialCollegeLondon/Rev-res-in/dispersion/csv-files/w50_20dp_grids_species_richness.csv', mode = 'a', header = False)\n",
    "iterations_df.to_csv('/Users/gb4818/Library/CloudStorage/OneDrive-ImperialCollegeLondon/Rev-res-in/dispersion/csv-files/w50_20dp_iterations_species_richness.csv', mode = 'a', header = False)"
   ]
  },
  {
   "cell_type": "markdown",
   "metadata": {},
   "source": []
  }
 ],
 "metadata": {
  "kernelspec": {
   "display_name": ".venv",
   "language": "python",
   "name": "python3"
  },
  "language_info": {
   "codemirror_mode": {
    "name": "ipython",
    "version": 3
   },
   "file_extension": ".py",
   "mimetype": "text/x-python",
   "name": "python",
   "nbconvert_exporter": "python",
   "pygments_lexer": "ipython3",
   "version": "3.11.6"
  }
 },
 "nbformat": 4,
 "nbformat_minor": 2
}
