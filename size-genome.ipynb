{
 "cells": [
  {
   "cell_type": "code",
   "execution_count": 7,
   "metadata": {},
   "outputs": [],
   "source": [
    "#Importing required libraries\n",
    "import pandas as pd\n",
    "import os\n",
    "import re\n",
    "import seaborn as sns"
   ]
  },
  {
   "cell_type": "code",
   "execution_count": 5,
   "metadata": {},
   "outputs": [],
   "source": [
    "# List of folder paths\n",
    "folder_paths = ['/Users/gb4818/OneDrive - Imperial College London/Rev-res-in/dispersion/to-move/100_results_w50_3dp',\n",
    "                '/Users/gb4818/OneDrive - Imperial College London/Rev-res-in/dispersion/to-move/100_results_w50_4dp',\n",
    "                '/Users/gb4818/OneDrive - Imperial College London/Rev-res-in/dispersion/to-move/100_results_w50_5dp',\n",
    "                '/Users/gb4818/OneDrive - Imperial College London/Rev-res-in/dispersion/to-move/100_results_w50_6dp',\n",
    "                \n",
    "                '/Users/gb4818/OneDrive - Imperial College London/Rev-res-in/dispersion/to-move/100_results_w50_8dp',\n",
    "                '/Users/gb4818/OneDrive - Imperial College London/Rev-res-in/dispersion/to-move/100_results_w50_10dp',\n",
    "                '/Users/gb4818/OneDrive - Imperial College London/Rev-res-in/dispersion/to-move/100_results_w50_20dp',\n",
    "                '/Users/gb4818/OneDrive - Imperial College London/Rev-res-in/dispersion/to-move/100_results_w50_25dp',\n",
    "                \n",
    "                '/Users/gb4818/OneDrive - Imperial College London/Rev-res-in/dispersion/to-move/100_results_w50_30dp',\n",
    "                '/Users/gb4818/OneDrive - Imperial College London/Rev-res-in/dispersion/to-move/100_results_w50_35dp',\n",
    "                '/Users/gb4818/OneDrive - Imperial College London/Rev-res-in/dispersion/to-move/100_results_w50_40dp',\n",
    "                '/Users/gb4818/OneDrive - Imperial College London/Rev-res-in/dispersion/to-move/100_results_w50_50dp'\n",
    "                ]\n",
    "\n",
    "# Define folder labels\n",
    "folder_labels = [3, 4, 5, 6, 8, 10, 20, 25, 30,  35, 40, 50]"
   ]
  },
  {
   "cell_type": "markdown",
   "metadata": {},
   "source": [
    "The following code is to understand what is the number maximum and minimum of pairs\n"
   ]
  },
  {
   "cell_type": "code",
   "execution_count": 6,
   "metadata": {},
   "outputs": [],
   "source": [
    "# Initialize an empty list to store the final results\n",
    "dfs = []\n",
    "\n",
    "# Loop through each folder path\n",
    "for i, folder_path in enumerate(folder_paths):\n",
    "    \n",
    "    # Loop through each file in the folder\n",
    "    for filename in os.listdir(folder_path):\n",
    "        match = re.match(r'REvoSim_individuals_data_.*\\.txt', filename)\n",
    "        if match:\n",
    "            file_path = os.path.join(folder_path, filename)\n",
    "\n",
    "            # Read the DataFrame from the file\n",
    "            df = pd.read_csv(file_path, sep=',', header=0, skiprows=12)\n",
    "            genomes = df['Genome']\n",
    "            num_pairs = len(genomes) // 2\n",
    "            \n",
    "            # Append the results to the final list\n",
    "            dfs.append({\n",
    "                'folder_name': folder_labels[i], \n",
    "                'file_name': filename,\n",
    "                'num_pairs': num_pairs\n",
    "            })\n",
    "\n",
    "# Create a DataFrame from the results list\n",
    "final_df = pd.DataFrame(dfs)"
   ]
  },
  {
   "cell_type": "code",
   "execution_count": null,
   "metadata": {},
   "outputs": [],
   "source": []
  }
 ],
 "metadata": {
  "kernelspec": {
   "display_name": ".venv",
   "language": "python",
   "name": "python3"
  },
  "language_info": {
   "codemirror_mode": {
    "name": "ipython",
    "version": 3
   },
   "file_extension": ".py",
   "mimetype": "text/x-python",
   "name": "python",
   "nbconvert_exporter": "python",
   "pygments_lexer": "ipython3",
   "version": "3.11.6"
  }
 },
 "nbformat": 4,
 "nbformat_minor": 2
}
