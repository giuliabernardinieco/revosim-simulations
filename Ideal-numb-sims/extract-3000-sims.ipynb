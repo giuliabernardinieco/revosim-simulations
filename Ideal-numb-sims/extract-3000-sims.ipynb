{
 "cells": [
  {
   "cell_type": "code",
   "execution_count": 1,
   "metadata": {},
   "outputs": [],
   "source": [
    "#Importing required libraries\n",
    "import pandas as pd"
   ]
  },
  {
   "cell_type": "code",
   "execution_count": 6,
   "metadata": {},
   "outputs": [
    {
     "name": "stdout",
     "output_type": "stream",
     "text": [
      "   dp                                       Simulation  Diversity\n",
      "0  15     REvoSim_individuals_data_envw50_15dp_aj1.txt   4.523763\n",
      "1  15    REvoSim_individuals_data_envw50_15dp_aj10.txt   6.135700\n",
      "2  15   REvoSim_individuals_data_envw50_15dp_aj100.txt   6.690585\n",
      "3  15  REvoSim_individuals_data_envw50_15dp_aj1000.txt   5.983588\n",
      "4  15  REvoSim_individuals_data_envw50_15dp_aj1001.txt   7.369268\n",
      "      dp                                      Simulation  Diversity\n",
      "4458  15  REvoSim_individuals_data_envw50_15dp_aj995.txt   5.935325\n",
      "4459  15  REvoSim_individuals_data_envw50_15dp_aj996.txt   6.587060\n",
      "4460  15  REvoSim_individuals_data_envw50_15dp_aj997.txt   7.855924\n",
      "4461  15  REvoSim_individuals_data_envw50_15dp_aj998.txt   3.571390\n",
      "4462  15  REvoSim_individuals_data_envw50_15dp_aj999.txt   6.040393\n",
      "Number of unique simulations is: 4463\n"
     ]
    }
   ],
   "source": [
    "# Combined transect file, contais all x and y position and their number of species\n",
    "df = pd.read_csv('/Users/gb4818/code/revosim-simulations/w50_15dp_genetic_diversity_4Ksims.csv', sep=',', index_col=0)\n",
    "print(df.head())\n",
    "print(df.tail())\n",
    "print('Number of unique simulations is:', df['Simulation'].nunique())"
   ]
  },
  {
   "cell_type": "code",
   "execution_count": 7,
   "metadata": {},
   "outputs": [
    {
     "name": "stdout",
     "output_type": "stream",
     "text": [
      "   dp                                       Simulation  Diversity\n",
      "0  15     REvoSim_individuals_data_envw50_15dp_aj1.txt   4.523763\n",
      "1  15    REvoSim_individuals_data_envw50_15dp_aj10.txt   6.135700\n",
      "2  15   REvoSim_individuals_data_envw50_15dp_aj100.txt   6.690585\n",
      "3  15  REvoSim_individuals_data_envw50_15dp_aj1000.txt   5.983588\n",
      "4  15  REvoSim_individuals_data_envw50_15dp_aj1001.txt   7.369268\n",
      "      dp                                      Simulation  Diversity\n",
      "4458  15  REvoSim_individuals_data_envw50_15dp_aj995.txt   5.935325\n",
      "4459  15  REvoSim_individuals_data_envw50_15dp_aj996.txt   6.587060\n",
      "4460  15  REvoSim_individuals_data_envw50_15dp_aj997.txt   7.855924\n",
      "4461  15  REvoSim_individuals_data_envw50_15dp_aj998.txt   3.571390\n",
      "4462  15  REvoSim_individuals_data_envw50_15dp_aj999.txt   6.040393\n",
      "Number of unique simulations is  2999 after filtering\n"
     ]
    },
    {
     "name": "stderr",
     "output_type": "stream",
     "text": [
      "/var/folders/dm/ryjvp3j51h78gsbgf92k6xvh0000gp/T/ipykernel_48334/3771195291.py:2: UserWarning: This pattern is interpreted as a regular expression, and has match groups. To actually get the groups, use str.extract.\n",
      "  filtered_df = df[df['Simulation'].str.contains(r'REvoSim_individuals_data_envw50_15dp_aj([1-9][0-9]{0,2}|[12][0-9]{3}|2900)\\.txt')]\n"
     ]
    }
   ],
   "source": [
    "# Filter rows based on the 'Simulation' column\n",
    "filtered_df = df[df['Simulation'].str.contains(r'REvoSim_individuals_data_envw50_15dp_aj([1-9][0-9]{0,2}|[12][0-9]{3}|2900)\\.txt')]\n",
    "print(filtered_df.head())\n",
    "print(filtered_df.tail())\n",
    "print('Number of unique simulations is ',filtered_df['Simulation'].nunique(), 'after filtering')"
   ]
  },
  {
   "cell_type": "code",
   "execution_count": 4,
   "metadata": {},
   "outputs": [
    {
     "name": "stderr",
     "output_type": "stream",
     "text": [
      "/var/folders/dm/ryjvp3j51h78gsbgf92k6xvh0000gp/T/ipykernel_97231/1018909887.py:2: SettingWithCopyWarning: \n",
      "A value is trying to be set on a copy of a slice from a DataFrame\n",
      "\n",
      "See the caveats in the documentation: https://pandas.pydata.org/pandas-docs/stable/user_guide/indexing.html#returning-a-view-versus-a-copy\n",
      "  filtered_df.drop(columns=['Environment'], inplace=True)\n",
      "/var/folders/dm/ryjvp3j51h78gsbgf92k6xvh0000gp/T/ipykernel_97231/1018909887.py:3: SettingWithCopyWarning: \n",
      "A value is trying to be set on a copy of a slice from a DataFrame.\n",
      "Try using .loc[row_indexer,col_indexer] = value instead\n",
      "\n",
      "See the caveats in the documentation: https://pandas.pydata.org/pandas-docs/stable/user_guide/indexing.html#returning-a-view-versus-a-copy\n",
      "  filtered_df['dp'] = 15\n"
     ]
    }
   ],
   "source": [
    "# Remove column Environment and add  col dp\n",
    "filtered_df.drop(columns=['Environment'], inplace=True)\n",
    "filtered_df['dp'] = 15"
   ]
  },
  {
   "cell_type": "code",
   "execution_count": 8,
   "metadata": {},
   "outputs": [
    {
     "name": "stdout",
     "output_type": "stream",
     "text": [
      "   dp                                       Simulation  Diversity\n",
      "0  15     REvoSim_individuals_data_envw50_15dp_aj1.txt   4.523763\n",
      "1  15    REvoSim_individuals_data_envw50_15dp_aj10.txt   6.135700\n",
      "2  15   REvoSim_individuals_data_envw50_15dp_aj100.txt   6.690585\n",
      "3  15  REvoSim_individuals_data_envw50_15dp_aj1000.txt   5.983588\n",
      "4  15  REvoSim_individuals_data_envw50_15dp_aj1001.txt   7.369268\n"
     ]
    }
   ],
   "source": [
    "print(filtered_df.head())"
   ]
  },
  {
   "cell_type": "code",
   "execution_count": 9,
   "metadata": {},
   "outputs": [],
   "source": [
    "# Save file as csv in dedicated folder\n",
    "filtered_df.to_csv('/Users/gb4818/OneDrive - Imperial College London/Rev-res-in/dispersion/csv-files/w50_15dp_genetic_diversity.csv')"
   ]
  },
  {
   "cell_type": "code",
   "execution_count": 7,
   "metadata": {},
   "outputs": [
    {
     "name": "stdout",
     "output_type": "stream",
     "text": [
      "   Y coord  X coord  Species Richness                       Simulation  dp\n",
      "0        0        0                 1  REvoSim_individuals_data_HL.txt  15\n",
      "1        0        1                 2  REvoSim_individuals_data_HL.txt  15\n",
      "2        0        2                 2  REvoSim_individuals_data_HL.txt  15\n",
      "3        0        3                 2  REvoSim_individuals_data_HL.txt  15\n",
      "4        0        4                 2  REvoSim_individuals_data_HL.txt  15\n"
     ]
    }
   ],
   "source": [
    "# Import Highlighted Simulation data\n",
    "###################################\n",
    "### LOGS SPECIES RICHNESS GRIDS ###\n",
    "###################################\n",
    "\n",
    "df = pd.read_csv('/Users/gb4818/Desktop/REvoSim_output/REvoSim_individuals_data_HL.txt', sep=',', header=0, skiprows=12, usecols=[1, 2, 8])\n",
    "df = df[['X coord', 'Y coord', 'species ID']]\n",
    "# calculate species richness\n",
    "to_append = df.groupby(['Y coord', 'X coord'])['species ID'].nunique().reset_index()\n",
    "to_append['Simulation'] = 'REvoSim_individuals_data_HL.txt'\n",
    "to_append = to_append.rename(columns={'species ID': 'Species Richness'} )\n",
    "to_append['dp'] = 15\n",
    "print(to_append.head())\n"
   ]
  },
  {
   "cell_type": "code",
   "execution_count": 10,
   "metadata": {},
   "outputs": [
    {
     "name": "stdout",
     "output_type": "stream",
     "text": [
      "   dp                       Simulation  Diversity\n",
      "0  15  REvoSim_individuals_data_HL.txt  16.595532\n"
     ]
    }
   ],
   "source": [
    "import random\n",
    "import os\n",
    "import pandas as pd\n",
    "import re\n",
    "\n",
    "# Folder Paths\n",
    "# List of folder paths\n",
    "folder_paths = ['/Users/gb4818/Desktop/REvoSim_output/']\n",
    "# Define folder labels\n",
    "folder_labels = [15]\n",
    "# Extract the label from the folder_labels list\n",
    "label = folder_labels[0]\n",
    "\n",
    "#########################################################################################\n",
    "### GENETIC DIVERSITY FUNCTIONS DEFINITION\n",
    "#Creating a function to calculate genetic diversity among pairs\n",
    "# I will use this one to calculate the average diversity of the sample\n",
    "def average_diversity_simulation(genomes, num_pairs):\n",
    "    # Ensure num_pairs is not greater than the length of genomes\n",
    "    num_pairs = min(num_pairs, len(genomes) // 2)\n",
    "    \n",
    "    # Select random pairs of indices\n",
    "    random_indices = random.sample(range(len(genomes)), 2 * num_pairs)\n",
    "\n",
    "    # Initialize a counter for differences\n",
    "    differences_count = 0\n",
    "\n",
    "    # Compare strings in random pairs\n",
    "    for i in range(0, len(random_indices), 2):\n",
    "        index1, index2 = random_indices[i], random_indices[i + 1]\n",
    "        string1, string2 = genomes.iloc[index1], genomes.iloc[index2]\n",
    "\n",
    "        # Compare strings and count differences\n",
    "        differences_count = differences_count + sum(c1 != c2 for c1, c2 in zip(string1, string2))\n",
    "\n",
    "    # Calculate the average differences per pair\n",
    "    average_differences = differences_count / num_pairs\n",
    "\n",
    "    return average_differences\n",
    "\n",
    "# Creating a function to create and store diversity values and return them in a table, \n",
    "# from this table we will calculate stats for each sample\n",
    "def diversity_table(genomes, num_pairs):\n",
    "    # Select random pairs of indices\n",
    "    random_indices = random.sample(range(len(genomes)), 2 * num_pairs)\n",
    "\n",
    "    # Initialize a counter for differences\n",
    "    differences_list = []\n",
    "\n",
    "    # Compare strings in random pairs\n",
    "    for i in range(0, len(random_indices), 2):\n",
    "        index1, index2 = random_indices[i], random_indices[i + 1]\n",
    "        string1, string2 = genomes.iloc[index1], genomes.iloc[index2]\n",
    "\n",
    "        # Compare strings and count differences\n",
    "        differences_count = sum(c1 != c2 for c1, c2 in zip(string1, string2))\n",
    "\n",
    "        # Append to the list\n",
    "        differences_list.append((differences_count))\n",
    "\n",
    "    return differences_list\n",
    "\n",
    "##############################\n",
    "### LOGS GENETIC DIVERSITY ###\n",
    "##############################\n",
    "\n",
    "# Create a list to store individual DataFrames\n",
    "dataframes = []\n",
    "\n",
    "for i, folder_path in enumerate(folder_paths):\n",
    "    # Create a list to store all the DataFrames for the current folder\n",
    "    dfs = []\n",
    "    \n",
    "    # Loop through each file in the folder and read it into a DataFrame\n",
    "    for filename in os.listdir(folder_path):\n",
    "        match = re.match(r'REvoSim_individuals_data_.*\\.txt', filename)\n",
    "        if match:\n",
    "            file_path = os.path.join(folder_path, filename)\n",
    "\n",
    "            # Read the DataFrame from the file\n",
    "            df = pd.read_csv(file_path, sep=',', header=0, skiprows=12,  usecols=[0])\n",
    "            genomes = df['Genome']\n",
    "            # keep the first 32 bits from each genome\n",
    "            #genomes = df['Genome'].str[:32]\n",
    "            #remove the first 32 and keep the last\n",
    "            #genomes = df['Genome'].str[32:]\n",
    "            \n",
    "            # Calculate genetic diversity and store in the list\n",
    "            diversity_list = diversity_table(genomes, len(genomes) // 2)\n",
    "\n",
    "            # Create a DataFrame with an additional 'File' column\n",
    "            div_df = pd.DataFrame({'Diversity': diversity_list, 'dp': folder_labels[i], 'Simulation': filename})\n",
    "            dfs.append(div_df)\n",
    "\n",
    "    # Concatenate all DataFrames in the list\n",
    "    combined_df_folder = pd.concat(dfs, ignore_index=True)\n",
    "    dataframes.append(combined_df_folder)\n",
    "\n",
    "# Concatenate all DataFrames from different folders into a single DataFrame\n",
    "diversity = pd.concat(dataframes, ignore_index=True)\n",
    "# Let's create a table with average diversity for each simulation\n",
    "average_div_df = diversity.groupby(['dp','Simulation'])['Diversity'].mean().reset_index()\n",
    "print(average_div_df.head())\n",
    "# average_div_df.to_csv(f'w50_{label}dp_genetic_diversity.csv')\n"
   ]
  },
  {
   "cell_type": "code",
   "execution_count": 12,
   "metadata": {},
   "outputs": [],
   "source": [
    "# Save file as csv in dedicated folder\n",
    "average_div_df.to_csv('/Users/gb4818/OneDrive - Imperial College London/Rev-res-in/dispersion/csv-files/w50_15dp_genetic_diversity.csv', mode = 'a', header=False)"
   ]
  },
  {
   "cell_type": "code",
   "execution_count": null,
   "metadata": {},
   "outputs": [],
   "source": []
  }
 ],
 "metadata": {
  "kernelspec": {
   "display_name": ".venv",
   "language": "python",
   "name": "python3"
  },
  "language_info": {
   "codemirror_mode": {
    "name": "ipython",
    "version": 3
   },
   "file_extension": ".py",
   "mimetype": "text/x-python",
   "name": "python",
   "nbconvert_exporter": "python",
   "pygments_lexer": "ipython3",
   "version": "3.11.6"
  }
 },
 "nbformat": 4,
 "nbformat_minor": 2
}
