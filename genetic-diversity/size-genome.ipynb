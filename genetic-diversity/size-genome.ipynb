{
 "cells": [
  {
   "cell_type": "code",
   "execution_count": 1,
   "metadata": {},
   "outputs": [],
   "source": [
    "#Importing required libraries\n",
    "import pandas as pd\n",
    "import os\n",
    "import re\n",
    "import random\n",
    "import itertools\n",
    "import statistics"
   ]
  },
  {
   "cell_type": "code",
   "execution_count": 2,
   "metadata": {},
   "outputs": [],
   "source": [
    "# List of folder paths\n",
    "folder_paths = ['/Users/gb4818/OneDrive - Imperial College London/Rev-res-in/dispersion/to-move/100_results_w50_3dp',\n",
    "                '/Users/gb4818/OneDrive - Imperial College London/Rev-res-in/dispersion/to-move/100_results_w50_4dp',\n",
    "                '/Users/gb4818/OneDrive - Imperial College London/Rev-res-in/dispersion/to-move/100_results_w50_5dp',\n",
    "                '/Users/gb4818/OneDrive - Imperial College London/Rev-res-in/dispersion/to-move/100_results_w50_6dp',\n",
    "                \n",
    "                '/Users/gb4818/OneDrive - Imperial College London/Rev-res-in/dispersion/to-move/100_results_w50_8dp',\n",
    "                '/Users/gb4818/OneDrive - Imperial College London/Rev-res-in/dispersion/to-move/100_results_w50_10dp',\n",
    "                '/Users/gb4818/OneDrive - Imperial College London/Rev-res-in/dispersion/to-move/100_results_w50_20dp',\n",
    "                '/Users/gb4818/OneDrive - Imperial College London/Rev-res-in/dispersion/to-move/100_results_w50_25dp',\n",
    "                \n",
    "                '/Users/gb4818/OneDrive - Imperial College London/Rev-res-in/dispersion/to-move/100_results_w50_30dp',\n",
    "                '/Users/gb4818/OneDrive - Imperial College London/Rev-res-in/dispersion/to-move/100_results_w50_35dp',\n",
    "                '/Users/gb4818/OneDrive - Imperial College London/Rev-res-in/dispersion/to-move/100_results_w50_40dp',\n",
    "                '/Users/gb4818/OneDrive - Imperial College London/Rev-res-in/dispersion/to-move/100_results_w50_50dp'\n",
    "                ]\n",
    "\n",
    "# Define folder labels\n",
    "folder_labels = [3, 4, 5, 6, 8, 10, 20, 25, 30,  35, 40, 50]"
   ]
  },
  {
   "cell_type": "markdown",
   "metadata": {},
   "source": [
    "The following code is to understand what is the number maximum and minimum of pairs\n"
   ]
  },
  {
   "cell_type": "code",
   "execution_count": 3,
   "metadata": {},
   "outputs": [],
   "source": [
    "# Initialize an empty list to store the final results\n",
    "dfs = []\n",
    "\n",
    "# Loop through each folder path\n",
    "for i, folder_path in enumerate(folder_paths):\n",
    "    \n",
    "    # Loop through each file in the folder\n",
    "    for filename in os.listdir(folder_path):\n",
    "        match = re.match(r'REvoSim_individuals_data_.*\\.txt', filename)\n",
    "        if match:\n",
    "            file_path = os.path.join(folder_path, filename)\n",
    "\n",
    "            # Read the DataFrame from the file\n",
    "            df = pd.read_csv(file_path, sep=',', header=0, skiprows=12)\n",
    "            genomes = df['Genome']\n",
    "            num_pairs = len(genomes) // 2\n",
    "            \n",
    "            # Append the results to the final list\n",
    "            dfs.append({\n",
    "                'folder_name': folder_labels[i], \n",
    "                'file_name': filename,\n",
    "                'num_pairs': num_pairs\n",
    "            })\n",
    "\n",
    "# Create a DataFrame from the results list\n",
    "final_df = pd.DataFrame(dfs)"
   ]
  },
  {
   "cell_type": "code",
   "execution_count": 12,
   "metadata": {},
   "outputs": [
    {
     "name": "stdout",
     "output_type": "stream",
     "text": [
      "4.788418708240535\n"
     ]
    }
   ],
   "source": [
    "pairs_with_50 = final_df['num_pairs'].value_counts()[50]\n",
    "len(final_df)\n",
    "print(pairs_with_50/len(final_df)*100)\n"
   ]
  },
  {
   "cell_type": "markdown",
   "metadata": {},
   "source": [
    "The following code is compouting only a small number of the possible pairs possibles.\n",
    "Here at this link you can find an explanation of the following code:\n",
    "\n",
    "https://www.notion.so/Genetic-Diversity-b4c384b7ba6e47e68a34148f50e9b530 "
   ]
  },
  {
   "cell_type": "code",
   "execution_count": 7,
   "metadata": {},
   "outputs": [],
   "source": [
    "# Creating a function to create and store diversity values and return them in a table, \n",
    "# from this table we will calculate stats for each sample\n",
    "def diversity_table(genomes, num_pairs):\n",
    "    # Select random pairs of indices\n",
    "    random_indices = random.sample(range(len(genomes)), 2 * num_pairs)\n",
    "\n",
    "    # Initialize a counter for differences\n",
    "    differences_list = []\n",
    "\n",
    "    # Compare strings in random pairs\n",
    "    for i in range(0, len(random_indices), 2):\n",
    "        index1, index2 = random_indices[i], random_indices[i + 1]\n",
    "        string1, string2 = genomes.iloc[index1], genomes.iloc[index2]\n",
    "\n",
    "        # Compare strings and count differences\n",
    "        differences_count = sum(c1 != c2 for c1, c2 in zip(string1, string2))\n",
    "\n",
    "        # Append to the list\n",
    "        differences_list.append((differences_count))\n",
    "\n",
    "    return differences_list"
   ]
  },
  {
   "cell_type": "markdown",
   "metadata": {},
   "source": [
    "I will try now to create a function that will look into all pairs. \\\n",
    "This involves iterating through all possible pairs of indices and calculating the number of differences for each pair. Here's a function that does this:"
   ]
  },
  {
   "cell_type": "code",
   "execution_count": 8,
   "metadata": {},
   "outputs": [],
   "source": [
    "def diversity_table_all_pairs(genomes):\n",
    "    # Initialize a list to store the number of differences for each pair\n",
    "    differences_list = []\n",
    "    \n",
    "    # Get all possible pairs of indices\n",
    "    all_pairs = itertools.combinations(range(len(genomes)), 2)\n",
    "    \n",
    "    # Compare genomes for each pair\n",
    "    for index1, index2 in all_pairs:\n",
    "        string1, string2 = genomes.iloc[index1], genomes.iloc[index2]\n",
    "        \n",
    "        # Count differences\n",
    "        differences_count = sum(c1 != c2 for c1, c2 in zip(string1, string2))\n",
    "        \n",
    "        # Append the number of differences to the list\n",
    "        differences_list.append(differences_count)\n",
    "    \n",
    "    return differences_list\n"
   ]
  },
  {
   "cell_type": "markdown",
   "metadata": {},
   "source": [
    "Now we will try to test one and the other and see the differences, we are only going to takea sample so we do nto overwhelm the CPU with a very big task"
   ]
  },
  {
   "cell_type": "code",
   "execution_count": 10,
   "metadata": {},
   "outputs": [
    {
     "name": "stdout",
     "output_type": "stream",
     "text": [
      "Mean diversity for small sample: 3.3333333333333335 for 3 pairs\n",
      "Mean diversity for all pairs: 3.8095238095238093 for 21 pairs\n",
      "There is a difference of 0.47619047619047583 between the two means\n",
      "The difference is 12.499999999999991 percent of the mean diversity for all pairs\n"
     ]
    }
   ],
   "source": [
    "# get a sample of genomes from a simulation\n",
    "sample = pd.read_csv('/Users/gb4818/Library/CloudStorage/OneDrive-ImperialCollegeLondon/Rev-res-in/dispersion/to-move/REvoSim_individuals_data_envw50_3dp_ajTEST.txt', sep=',', header=0, skiprows=12,  usecols=[0])\n",
    "genomes = sample['Genome']\n",
    "\n",
    "# Calculate genetic diversity and store in the list\n",
    "diversity_small = diversity_table(genomes, len(genomes) // 2)\n",
    "diversity_all = diversity_table_all_pairs(genomes)\n",
    "\n",
    "# Calculate the mean diversity for both lists\n",
    "diversity_small_mean = statistics.mean(diversity_small)\n",
    "diversity_all_mean = statistics.mean(diversity_all)\n",
    "\n",
    "print('Mean diversity for small sample:', diversity_small_mean, 'for', len(genomes) // 2, 'pairs' )  \n",
    "print('Mean diversity for all pairs:', diversity_all_mean, 'for', len(genomes) * (len(genomes) - 1) // 2, 'pairs' )\n",
    "print('There is a difference of', diversity_all_mean - diversity_small_mean, 'between the two means')\n",
    "print('The difference is', (diversity_all_mean - diversity_small_mean) / diversity_all_mean * 100, 'percent of the mean diversity for all pairs')\n"
   ]
  }
 ],
 "metadata": {
  "kernelspec": {
   "display_name": ".venv",
   "language": "python",
   "name": "python3"
  },
  "language_info": {
   "codemirror_mode": {
    "name": "ipython",
    "version": 3
   },
   "file_extension": ".py",
   "mimetype": "text/x-python",
   "name": "python",
   "nbconvert_exporter": "python",
   "pygments_lexer": "ipython3",
   "version": "3.11.6"
  }
 },
 "nbformat": 4,
 "nbformat_minor": 2
}
