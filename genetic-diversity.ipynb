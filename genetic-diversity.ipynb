{
 "cells": [
  {
   "cell_type": "code",
   "execution_count": 2,
   "metadata": {},
   "outputs": [],
   "source": [
    "import pandas as pd\n",
    "import matplotlib.pyplot as plt\n",
    "import os\n",
    "import re"
   ]
  },
  {
   "cell_type": "code",
   "execution_count": 3,
   "metadata": {},
   "outputs": [
    {
     "name": "stdout",
     "output_type": "stream",
     "text": [
      "                                                   Genome  X coord  Y coord  \\\n",
      "0       0011100100101011100000110110010010001100001011...        0        0   \n",
      "1       0011101100101011100000110110010010001100001011...        0        0   \n",
      "2       0011101100101011100000110110010010001100011011...        0        0   \n",
      "3       0011101100101011000000110110010100111111100011...        0        0   \n",
      "4       0001011110100010100000101111110111110100010011...        0        0   \n",
      "...                                                   ...      ...      ...   \n",
      "192508  0100100011100000101101010000001110010010101011...       99       99   \n",
      "192509  0100100011100000101101010000001110010010101011...       99       99   \n",
      "192510  0100100011100000101101010000001110010010101011...       99       99   \n",
      "192511  0100100011100000101101010000001110010010101011...       99       99   \n",
      "192512  0100100011100000101101010000001110010010101011...       99       99   \n",
      "\n",
      "        age  environmental fitness  fitness  stolen energy  lifetime energy  \\\n",
      "0         4                     14       14              0              952   \n",
      "1         6                     15       15              0              825   \n",
      "2         7                     15       15              0              735   \n",
      "3         9                     15       15              0              570   \n",
      "4        10                      4        4              0              128   \n",
      "...     ...                    ...      ...            ...              ...   \n",
      "192508    1                     15       15              0             1245   \n",
      "192509    1                     15       15              0             1245   \n",
      "192510    1                     15       15              0             1245   \n",
      "192511   12                     15       15              0              225   \n",
      "192512   12                     15       15              0              225   \n",
      "\n",
      "        species ID  environment R value  environment G value  \\\n",
      "0             2983                  107                  174   \n",
      "1             2983                  107                  174   \n",
      "2             2983                  107                  174   \n",
      "3              285                  107                  174   \n",
      "4              126                  107                  174   \n",
      "...            ...                  ...                  ...   \n",
      "192508         694                   66                  146   \n",
      "192509         694                   66                  146   \n",
      "192510         694                   66                  146   \n",
      "192511         694                   66                  146   \n",
      "192512         694                   66                  146   \n",
      "\n",
      "        environment B value  \n",
      "0                       214  \n",
      "1                       214  \n",
      "2                       214  \n",
      "3                       214  \n",
      "4                       214  \n",
      "...                     ...  \n",
      "192508                  198  \n",
      "192509                  198  \n",
      "192510                  198  \n",
      "192511                  198  \n",
      "192512                  198  \n",
      "\n",
      "[192513 rows x 12 columns]\n"
     ]
    }
   ],
   "source": [
    "# load one of the 30 txt file to check what is the structure \n",
    "df = pd.read_csv('/Users/gb4818/Library/CloudStorage/OneDrive-ImperialCollegeLondon/Rev-res-in/1st batches - multichannel env/1over50/mh/REvoSim_individuals_data_1.txt', sep = ',', header = 0, skiprows = 12)\n",
    "# take all the records that have y = 50 (a transect in the middle)\n",
    "print(df)\n"
   ]
  }
 ],
 "metadata": {
  "kernelspec": {
   "display_name": ".venv",
   "language": "python",
   "name": "python3"
  },
  "language_info": {
   "codemirror_mode": {
    "name": "ipython",
    "version": 3
   },
   "file_extension": ".py",
   "mimetype": "text/x-python",
   "name": "python",
   "nbconvert_exporter": "python",
   "pygments_lexer": "ipython3",
   "version": "3.12.0"
  }
 },
 "nbformat": 4,
 "nbformat_minor": 2
}
